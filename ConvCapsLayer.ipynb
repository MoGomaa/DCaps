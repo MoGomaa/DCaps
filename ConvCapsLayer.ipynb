{
  "nbformat": 4,
  "nbformat_minor": 0,
  "metadata": {
    "colab": {
      "name": "ConvCapsLayer.ipynb",
      "provenance": [],
      "authorship_tag": "ABX9TyPNYtQWbk/BKghn2hIGD9jq",
      "include_colab_link": true
    },
    "kernelspec": {
      "name": "python3",
      "display_name": "Python 3"
    }
  },
  "cells": [
    {
      "cell_type": "markdown",
      "metadata": {
        "id": "view-in-github",
        "colab_type": "text"
      },
      "source": [
        "<a href=\"https://colab.research.google.com/github/MoGomaa/DCaps/blob/main/ConvCapsLayer.ipynb\" target=\"_parent\"><img src=\"https://colab.research.google.com/assets/colab-badge.svg\" alt=\"Open In Colab\"/></a>"
      ]
    },
    {
      "cell_type": "code",
      "metadata": {
        "id": "uCOxRoqYwZTk"
      },
      "source": [
        "import tensorflow as tf\r\n",
        "from keras import initializers, layers\r\n",
        "import keras.backend as K"
      ],
      "execution_count": null,
      "outputs": []
    },
    {
      "cell_type": "code",
      "metadata": {
        "colab": {
          "base_uri": "https://localhost:8080/",
          "height": 35
        },
        "id": "Jf7gtA-Mw0sX",
        "outputId": "c687f873-daf3-4fee-9e00-2eb648685b9b"
      },
      "source": [
        "tf.__version__"
      ],
      "execution_count": null,
      "outputs": [
        {
          "output_type": "execute_result",
          "data": {
            "application/vnd.google.colaboratory.intrinsic+json": {
              "type": "string"
            },
            "text/plain": [
              "'2.4.1'"
            ]
          },
          "metadata": {
            "tags": []
          },
          "execution_count": 3
        }
      ]
    },
    {
      "cell_type": "code",
      "metadata": {
        "id": "TKKsM4e6w2nU"
      },
      "source": [
        "class ConvCapsuleLayer(layers.Layer):\r\n",
        "  def __init__(self, num_capsule, capsule_dim, routings=3,\r\n",
        "               kernel_size=5, strides=1, padding='same', kernel_initializer='he_normal',\r\n",
        "               epsilon=1e-7, **kwargs):\r\n",
        "    super(ConvCapsuleLayer, self).__init__(**kwargs)\r\n",
        "    self.num_capsule        = num_capsule\r\n",
        "    self.capsule_dim        = capsule_dim\r\n",
        "    self.routings           = routings\r\n",
        "    self.kernel_size        = kernel_size\r\n",
        "    self.strides            = strides\r\n",
        "    self.padding            = padding\r\n",
        "    self.kernel_initializer = initializers.get(kernel_initializer)\r\n",
        "    self.epsilon            = epsilon\r\n",
        "    \r\n",
        "  def build(self, input_shape):\r\n",
        "    #assert len(input_shape) == 5, \"input_shape=[None, input_height, input_width, input_num_capsule, input_capsule_dim]\"\r\n",
        "    \r\n",
        "    self.input_height      = input_shape[1]\r\n",
        "    self.input_width       = input_shape[2]\r\n",
        "    self.input_num_capsule = input_shape[3]\r\n",
        "    self.input_capsule_dim = input_shape[4]\r\n",
        "    \r\n",
        "    self.W = self.add_weight(shape=[self.kernel_size, self.kernel_size, self.input_capsule_dim, self.num_capsule*self.capsule_dim],\r\n",
        "                             initializer=self.kernel_initializer,\r\n",
        "                             name='W')\r\n",
        "    self.bias = self.add_weight(shape=[1, 1, self.num_capsule, self.capsule_dim],\r\n",
        "                                initializer=initializers.constant(0.1),\r\n",
        "                                name='b')\r\n",
        "    self.built = True\r\n",
        "\r\n",
        "  def call(self, input_tensor, training=None):\r\n",
        "    input_shape = K.shape(input_tensor)\r\n",
        "    batch_size, input_height, input_width, input_num_capsule, input_capsule_dim = input_tensor.shape\r\n",
        "    \r\n",
        "    input_transposed = tf.transpose(input_tensor, [0, 3, 1, 2, 4])\r\n",
        "    input_reshaped   = K.reshape(input_transposed, [input_shape[0]*input_num_capsule, input_height, input_width, input_capsule_dim])\r\n",
        "    input_reshaped.set_shape([None, input_height, input_width, input_capsule_dim])  \r\n",
        "\r\n",
        "    conv = K.conv2d(input_reshaped, self.W, (self.strides, self.strides), padding=self.padding, data_format='channels_last')\r\n",
        "    _, conv_height, conv_width, _ = conv.shape\r\n",
        "    \r\n",
        "    # Reshape back to 6D by splitting first dimmension to batch and input_dim\r\n",
        "    # and splitting last dimmension to output_dim and output_atoms.\r\n",
        "    votes = K.reshape(conv, [input_shape[0], input_num_capsule, conv_height, conv_width, self.num_capsule, self.capsule_dim])\r\n",
        "    votes.set_shape([None, input_num_capsule, conv_height, conv_width, self.num_capsule, self.capsule_dim])\r\n",
        "    \r\n",
        "    with tf.name_scope(\"DynamicRouting\") as scope:\r\n",
        "      b = tf.zeros([input_shape[0], input_num_capsule, conv_height, conv_width, self.num_capsule, 1]) \r\n",
        "      for i in range(self.routings):\r\n",
        "        c  = tf.nn.softmax(b, axis=-2)\r\n",
        "        s  = tf.reduce_sum(tf.multiply(c, votes), axis=1, keepdims=True) + self.bias\r\n",
        "        v  = self.__squash(s)\r\n",
        "        a  = tf.squeeze(tf.matmul(tf.expand_dims(votes, axis=-1), tf.expand_dims(v, axis=-1), transpose_a=True), axis=[-1])\r\n",
        "        b += a\r\n",
        "    return tf.squeeze(v)\r\n",
        "\r\n",
        "  def __squash(self, s):\r\n",
        "    s_norm = tf.norm(s, axis=-1, keepdims=True)\r\n",
        "    return tf.square(s_norm)/(1 + tf.square(s_norm)) * s/(s_norm + self.epsilon)\r\n",
        "\r\n",
        "  def compute_output_shape(self, input_shape):\r\n",
        "    return (input_shape[0], input_shape[1], input_shape[2]) + (self.num_capsule, self.capsule_dim)\r\n",
        "\r\n",
        "  def get_config(self):\r\n",
        "    config = {'num_capsule'        : self.num_capsule,\r\n",
        "              'capsule_dim'        : self.capsule_dim,\r\n",
        "              'routings'           : self.routings,\r\n",
        "              'kernel_size'        : self.kernel_size,\r\n",
        "              'strides'            : self.strides,\r\n",
        "              'padding'            : self.padding,\r\n",
        "              'kernel_initializer' : initializers.serialize(self.kernel_initializer),\r\n",
        "              \"epsilon\"            : self.epsilon}\r\n",
        "    base_config = super(ConvCapsuleLayer, self).get_config()\r\n",
        "    return dict(list(base_config.items()) + list(config.items()))"
      ],
      "execution_count": null,
      "outputs": []
    }
  ]
}