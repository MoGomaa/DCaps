{
  "nbformat": 4,
  "nbformat_minor": 0,
  "metadata": {
    "colab": {
      "name": "D-Caps.ipynb",
      "provenance": [],
      "collapsed_sections": [],
      "authorship_tag": "ABX9TyPvgEGE5qg0y9Crg4EvPfUN",
      "include_colab_link": true
    },
    "kernelspec": {
      "name": "python3",
      "display_name": "Python 3"
    }
  },
  "cells": [
    {
      "cell_type": "markdown",
      "metadata": {
        "id": "view-in-github",
        "colab_type": "text"
      },
      "source": [
        "<a href=\"https://colab.research.google.com/github/MoGomaa/DCaps/blob/main/D_Caps.ipynb\" target=\"_parent\"><img src=\"https://colab.research.google.com/assets/colab-badge.svg\" alt=\"Open In Colab\"/></a>"
      ]
    },
    {
      "cell_type": "code",
      "metadata": {
        "id": "4EewYwdSzqQg"
      },
      "source": [
        "import tensorflow as tf\r\n",
        "import keras.backend as K\r\n",
        "\r\n",
        "from keras import layers"
      ],
      "execution_count": 1,
      "outputs": []
    },
    {
      "cell_type": "code",
      "metadata": {
        "colab": {
          "base_uri": "https://localhost:8080/",
          "height": 35
        },
        "id": "m_ph7CPvz1-2",
        "outputId": "bf889baa-598e-4bce-e343-a956adb9aa87"
      },
      "source": [
        "tf.__version__"
      ],
      "execution_count": 2,
      "outputs": [
        {
          "output_type": "execute_result",
          "data": {
            "application/vnd.google.colaboratory.intrinsic+json": {
              "type": "string"
            },
            "text/plain": [
              "'2.4.1'"
            ]
          },
          "metadata": {
            "tags": []
          },
          "execution_count": 2
        }
      ]
    },
    {
      "cell_type": "markdown",
      "metadata": {
        "id": "op-vvyAq0KXd"
      },
      "source": [
        "**Note**<br />If you using Google Colab with Google Drive you have to mount your drive first then using import_ipynb lib to import ConvCapsuleLayer\r\n",
        "<br />This might be useful: [stackoverflow link](https://stackoverflow.com/questions/59020008/how-to-import-functions-of-a-jupyter-notebook-into-another-jupyter-notebook-in-g) "
      ]
    },
    {
      "cell_type": "code",
      "metadata": {
        "id": "cOgfGFKp35Sh"
      },
      "source": [
        "from ConvCapsLayer import ConvCapsuleLayer"
      ],
      "execution_count": null,
      "outputs": []
    },
    {
      "cell_type": "code",
      "metadata": {
        "id": "-rm3RToQz1RI"
      },
      "source": [
        "class ExpandDim(layers.Layer):\r\n",
        "    def call(self, inputs, **kwargs):\r\n",
        "        return K.expand_dims(inputs, axis=-2)\r\n",
        "\r\n",
        "    def compute_output_shape(self, input_shape):\r\n",
        "        return (input_shape[0:-1] + (1,) + input_shape[-1:])\r\n",
        "\r\n",
        "    def get_config(self):\r\n",
        "        config = {}\r\n",
        "        base_config = super(ExpandDim, self).get_config()\r\n",
        "\r\n",
        "        return dict(list(base_config.items()) + list(config.items()))\r\n",
        "\r\n",
        "class RemoveDim(layers.Layer):\r\n",
        "    def call(self, inputs, **kwargs):\r\n",
        "        return K.squeeze(inputs, axis=-2)\r\n",
        "\r\n",
        "    def compute_output_shape(self, input_shape):\r\n",
        "        return (input_shape[0:-2] + input_shape[-1:])\r\n",
        "\r\n",
        "    def get_config(self):\r\n",
        "        config = {}\r\n",
        "        base_config = super(RemoveDim, self).get_config()\r\n",
        "        return dict(list(base_config.items()) + list(config.items()))"
      ],
      "execution_count": 3,
      "outputs": []
    },
    {
      "cell_type": "code",
      "metadata": {
        "id": "sN7qbGtUz4Pz"
      },
      "source": [
        "def DiagnosisCapsules(input_shape, n_class=2, k_size=5, output_capsule_dim=16):\r\n",
        "  if n_class == 2:\r\n",
        "    n_class = 1 # binary output\r\n",
        "  \r\n",
        "  inputs         = layers.Input(shape=input_shape)\r\n",
        "\r\n",
        "  conv1          = layers.Conv2D(filters=16, kernel_size=k_size, strides=2, padding='same', activation='relu', name='conv1')(inputs)\r\n",
        "  conv1_reshaped = ExpandDim(name='expand_dim')(conv1)  # conv1_reshaped.shape: (None, 256, 320, 1, 16)\r\n",
        "\r\n",
        "  primary_caps   = ConvCapsuleLayer(num_capsule=2, capsule_dim=16, routings=1,\r\n",
        "                                    kernel_size=k_size, strides=2, padding='same', name='primary_caps')(conv1_reshaped)\r\n",
        "                                    # primary_caps.shape: (None, 128, 160, 2, 16)\r\n",
        "\r\n",
        "  conv_cap_2_1   = ConvCapsuleLayer(num_capsule=4, capsule_dim=16, routings=3,\r\n",
        "                                    kernel_size=k_size, strides=1, padding='same', name='conv_cap_2_1')(primary_caps)\r\n",
        "                                    # conv_cap_2_1.shape: (None, 128, 160, 4, 16)\r\n",
        "\r\n",
        "  conv_cap_2_2   = ConvCapsuleLayer(num_capsule=4, capsule_dim=32, routings=3,\r\n",
        "                                    kernel_size=k_size, strides=2, padding='same', name='conv_cap_2_2')(conv_cap_2_1)\r\n",
        "                                    # conv_cap_2_2.shape: (None, 64, 80, 4, 32)\r\n",
        "\r\n",
        "  conv_cap_3_1   = ConvCapsuleLayer(num_capsule=8, capsule_dim=32, routings=3,\r\n",
        "                                    kernel_size=k_size, strides=1, padding='same', name='conv_cap_3_1')(conv_cap_2_2)\r\n",
        "                                    # conv_cap_3_1.shape: (None, 64, 80, 8, 32)\r\n",
        "\r\n",
        "  conv_cap_3_2   = ConvCapsuleLayer(num_capsule=8, capsule_dim=64, routings=3,\r\n",
        "                                    kernel_size=k_size, strides=2, padding='same', name='conv_cap_3_2')(conv_cap_3_1)\r\n",
        "                                    # conv_cap_3_2.shape: (None, 32, 40, 8, 64)\r\n",
        "\r\n",
        "  conv_cap_4_1   = ConvCapsuleLayer(num_capsule=8, capsule_dim=32, routings=3,\r\n",
        "                                    kernel_size=k_size, strides=1, padding='same', name='conv_cap_4_1')(conv_cap_3_2)\r\n",
        "                                    # conv_cap_4_1.shape: (None, 32, 40, 8, 32)\r\n",
        "\r\n",
        "  conv_cap_4_2   = ConvCapsuleLayer(num_capsule=n_class, capsule_dim=output_capsule_dim, routings=3,\r\n",
        "                                    kernel_size=k_size, strides=2, padding='same', name='conv_cap_4_2')(conv_cap_4_1) \r\n",
        "                                    # conv_cap_4_2.shape: (None, 16, 20, 16)     -- Binary     (2 clsses)\r\n",
        "                                    #                     (None, 16, 20, n, 16)  -- Multiclass (n clsses)"
      ],
      "execution_count": 4,
      "outputs": []
    }
  ]
}